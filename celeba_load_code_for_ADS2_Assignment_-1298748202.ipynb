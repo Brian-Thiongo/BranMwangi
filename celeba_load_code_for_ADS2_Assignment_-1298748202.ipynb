{
 "cells": [
  {
   "cell_type": "code",
   "execution_count": null,
   "metadata": {
    "id": "AlsDpg5wbyXN"
   },
   "outputs": [],
   "source": [
    "import tensorflow as tf\n",
    "from google.colab import drive\n",
    "drive.mount('/content/drive')"
   ]
  },
  {
   "cell_type": "code",
   "execution_count": null,
   "metadata": {
    "id": "2WnD0IYpb_Jo"
   },
   "outputs": [],
   "source": [
    "!mkdir /content/celeba"
   ]
  },
  {
   "cell_type": "code",
   "execution_count": null,
   "metadata": {
    "id": "Y9bNd1JPc6NW"
   },
   "outputs": [],
   "source": [
    "!unzip /content/drive/MyDrive/img_align_celeba.zip -d /content/celeba"
   ]
  },
  {
   "cell_type": "code",
   "execution_count": null,
   "metadata": {
    "id": "2biwt3xhdHxh"
   },
   "outputs": [],
   "source": [
    "import pathlib\n",
    "data_dir = pathlib.Path('/content/celeba/img_align_celeba')\n",
    "list_ds = tf.data.Dataset.list_files(str(data_dir/'*/*.jpg'), shuffle=False)\n",
    "\n",
    "def decode_img(img):\n",
    "  # Convert the compressed string to a 3D uint8 tensor\n",
    "  img = tf.io.decode_jpeg(img, channels=3)\n",
    "  # Resize the image to the desired size\n",
    "  return tf.image.resize(img, [128, 128])\n",
    "\n",
    "def process_path(file_path):\n",
    "  # Load the raw data from the file as a string\n",
    "  img = tf.io.read_file(file_path)\n",
    "  img = decode_img(img)\n",
    "  img = tf.cast(img, 'float32')/255.\n",
    "  return img, img\n",
    "\n",
    "proc_ds = list_ds.map(process_path, num_parallel_calls=tf.data.AUTOTUNE)\n",
    "train_ds = proc_ds.take(20000).cache().batch(64, drop_remainder=True)\n",
    "valid_ds = proc_ds.take(10000).cache().batch(64, drop_remainder=True)"
   ]
  }
 ],
 "metadata": {
  "colab": {
   "provenance": []
  },
  "kernelspec": {
   "display_name": "Python 3",
   "language": "python",
   "name": "python3"
  },
  "language_info": {
   "codemirror_mode": {
    "name": "ipython",
    "version": 3
   },
   "file_extension": ".py",
   "mimetype": "text/x-python",
   "name": "python",
   "nbconvert_exporter": "python",
   "pygments_lexer": "ipython3",
   "version": "3.8.5"
  }
 },
 "nbformat": 4,
 "nbformat_minor": 1
}
